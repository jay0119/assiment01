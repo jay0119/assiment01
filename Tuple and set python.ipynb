{
 "cells": [
  {
   "cell_type": "code",
   "execution_count": 1,
   "id": "dd0ad3ea",
   "metadata": {},
   "outputs": [
    {
     "data": {
      "text/plain": [
       "10"
      ]
     },
     "execution_count": 1,
     "metadata": {},
     "output_type": "execute_result"
    }
   ],
   "source": [
    "a=10\n",
    "a\n"
   ]
  },
  {
   "cell_type": "code",
   "execution_count": 2,
   "id": "0271b4da",
   "metadata": {},
   "outputs": [
    {
     "data": {
      "text/plain": [
       "int"
      ]
     },
     "execution_count": 2,
     "metadata": {},
     "output_type": "execute_result"
    }
   ],
   "source": [
    "type(a)\n",
    "#jar verabal in number asel tr te int aste"
   ]
  },
  {
   "cell_type": "code",
   "execution_count": 3,
   "id": "f91f5237",
   "metadata": {},
   "outputs": [
    {
     "data": {
      "text/plain": [
       "'samay'"
      ]
     },
     "execution_count": 3,
     "metadata": {},
     "output_type": "execute_result"
    }
   ],
   "source": [
    "a1=\"samay\"\n",
    "a1"
   ]
  },
  {
   "cell_type": "code",
   "execution_count": 4,
   "id": "e20e940a",
   "metadata": {},
   "outputs": [
    {
     "data": {
      "text/plain": [
       "str"
      ]
     },
     "execution_count": 4,
     "metadata": {},
     "output_type": "execute_result"
    }
   ],
   "source": [
    "type(a1)\n",
    "# jar verabal in carcter madhe asel tr te str aste"
   ]
  },
  {
   "cell_type": "code",
   "execution_count": 6,
   "id": "3ac612fa",
   "metadata": {},
   "outputs": [
    {
     "data": {
      "text/plain": [
       "7.72"
      ]
     },
     "execution_count": 6,
     "metadata": {},
     "output_type": "execute_result"
    }
   ],
   "source": [
    "a3=7.72\n",
    "a3"
   ]
  },
  {
   "cell_type": "code",
   "execution_count": 7,
   "id": "2573ebd3",
   "metadata": {},
   "outputs": [
    {
     "data": {
      "text/plain": [
       "float"
      ]
     },
     "execution_count": 7,
     "metadata": {},
     "output_type": "execute_result"
    }
   ],
   "source": [
    "type(a3)"
   ]
  },
  {
   "cell_type": "code",
   "execution_count": 8,
   "id": "c4d72b61",
   "metadata": {},
   "outputs": [
    {
     "data": {
      "text/plain": [
       "True"
      ]
     },
     "execution_count": 8,
     "metadata": {},
     "output_type": "execute_result"
    }
   ],
   "source": [
    "b=True\n",
    "b"
   ]
  },
  {
   "cell_type": "code",
   "execution_count": 9,
   "id": "e8d6c473",
   "metadata": {},
   "outputs": [
    {
     "data": {
      "text/plain": [
       "bool"
      ]
     },
     "execution_count": 9,
     "metadata": {},
     "output_type": "execute_result"
    }
   ],
   "source": [
    "type(b)"
   ]
  },
  {
   "cell_type": "code",
   "execution_count": 2,
   "id": "0c44e834",
   "metadata": {},
   "outputs": [
    {
     "data": {
      "text/plain": [
       "False"
      ]
     },
     "execution_count": 2,
     "metadata": {},
     "output_type": "execute_result"
    }
   ],
   "source": [
    "b1= False\n",
    "b1"
   ]
  },
  {
   "cell_type": "code",
   "execution_count": 12,
   "id": "167b93c7",
   "metadata": {},
   "outputs": [
    {
     "data": {
      "text/plain": [
       "(6+7j)"
      ]
     },
     "execution_count": 12,
     "metadata": {},
     "output_type": "execute_result"
    }
   ],
   "source": [
    "# complex numbar \n",
    "b3=6+7j\n",
    "b3"
   ]
  },
  {
   "cell_type": "code",
   "execution_count": 13,
   "id": "fa670de7",
   "metadata": {},
   "outputs": [
    {
     "data": {
      "text/plain": [
       "7.0"
      ]
     },
     "execution_count": 13,
     "metadata": {},
     "output_type": "execute_result"
    }
   ],
   "source": [
    "b3.imag"
   ]
  },
  {
   "cell_type": "code",
   "execution_count": 14,
   "id": "f796b05b",
   "metadata": {},
   "outputs": [
    {
     "data": {
      "text/plain": [
       "6.0"
      ]
     },
     "execution_count": 14,
     "metadata": {},
     "output_type": "execute_result"
    }
   ],
   "source": [
    "b3.real"
   ]
  },
  {
   "cell_type": "code",
   "execution_count": 15,
   "id": "fa12d2b4",
   "metadata": {},
   "outputs": [
    {
     "data": {
      "text/plain": [
       "'pwskill'"
      ]
     },
     "execution_count": 15,
     "metadata": {},
     "output_type": "execute_result"
    }
   ],
   "source": [
    "c=\"pwskill\"\n",
    "c"
   ]
  },
  {
   "cell_type": "code",
   "execution_count": 16,
   "id": "7a111cd3",
   "metadata": {},
   "outputs": [
    {
     "name": "stdout",
     "output_type": "stream",
     "text": [
      "pwskill\n"
     ]
    }
   ],
   "source": [
    "print(c)\n",
    "#pskill\n",
    "#023456 forwod\n",
    "#-1-2-3-4-5-6 backword"
   ]
  },
  {
   "cell_type": "code",
   "execution_count": 19,
   "id": "8f8a6855",
   "metadata": {},
   "outputs": [
    {
     "data": {
      "text/plain": [
       "'p'"
      ]
     },
     "execution_count": 19,
     "metadata": {},
     "output_type": "execute_result"
    }
   ],
   "source": [
    "c[0]"
   ]
  },
  {
   "cell_type": "code",
   "execution_count": 20,
   "id": "b99e0f74",
   "metadata": {},
   "outputs": [
    {
     "data": {
      "text/plain": [
       "'l'"
      ]
     },
     "execution_count": 20,
     "metadata": {},
     "output_type": "execute_result"
    }
   ],
   "source": [
    "c[-1]"
   ]
  },
  {
   "cell_type": "code",
   "execution_count": 21,
   "id": "fb7a573b",
   "metadata": {},
   "outputs": [
    {
     "data": {
      "text/plain": [
       "'llikswp'"
      ]
     },
     "execution_count": 21,
     "metadata": {},
     "output_type": "execute_result"
    }
   ],
   "source": [
    "c[::-1]"
   ]
  },
  {
   "cell_type": "code",
   "execution_count": 24,
   "id": "c98d4d65",
   "metadata": {},
   "outputs": [
    {
     "data": {
      "text/plain": [
       "'ps'"
      ]
     },
     "execution_count": 24,
     "metadata": {},
     "output_type": "execute_result"
    }
   ],
   "source": [
    "c[0:4:2]\n",
    "#fast inde.strting point \n",
    "#secnd inde. ending point\n",
    "#last inde. jump"
   ]
  },
  {
   "cell_type": "code",
   "execution_count": 25,
   "id": "de80a266",
   "metadata": {},
   "outputs": [
    {
     "data": {
      "text/plain": [
       "''"
      ]
     },
     "execution_count": 25,
     "metadata": {},
     "output_type": "execute_result"
    }
   ],
   "source": [
    "c[-1:-1:-1]"
   ]
  },
  {
   "cell_type": "code",
   "execution_count": 26,
   "id": "e0941d73",
   "metadata": {},
   "outputs": [
    {
     "data": {
      "text/plain": [
       "''"
      ]
     },
     "execution_count": 26,
     "metadata": {},
     "output_type": "execute_result"
    }
   ],
   "source": [
    "c[2:7:-1]"
   ]
  },
  {
   "cell_type": "code",
   "execution_count": 27,
   "id": "ddabc5f2",
   "metadata": {},
   "outputs": [
    {
     "data": {
      "text/plain": [
       "''"
      ]
     },
     "execution_count": 27,
     "metadata": {},
     "output_type": "execute_result"
    }
   ],
   "source": [
    "c[8:0]"
   ]
  },
  {
   "cell_type": "code",
   "execution_count": 28,
   "id": "909fa3e6",
   "metadata": {},
   "outputs": [
    {
     "data": {
      "text/plain": [
       "'likswp'"
      ]
     },
     "execution_count": 28,
     "metadata": {},
     "output_type": "execute_result"
    }
   ],
   "source": [
    "c[-2::-1]"
   ]
  },
  {
   "cell_type": "code",
   "execution_count": 7,
   "id": "28c6a6e3",
   "metadata": {},
   "outputs": [
    {
     "data": {
      "text/plain": [
       "'this is my stroy'"
      ]
     },
     "execution_count": 7,
     "metadata": {},
     "output_type": "execute_result"
    }
   ],
   "source": [
    "s=\"this is my stroy\"\n",
    "s"
   ]
  },
  {
   "cell_type": "code",
   "execution_count": 8,
   "id": "622696c2",
   "metadata": {},
   "outputs": [
    {
     "data": {
      "text/plain": [
       "str"
      ]
     },
     "execution_count": 8,
     "metadata": {},
     "output_type": "execute_result"
    }
   ],
   "source": [
    "type(s)"
   ]
  },
  {
   "cell_type": "code",
   "execution_count": 9,
   "id": "fcd70044",
   "metadata": {},
   "outputs": [
    {
     "data": {
      "text/plain": [
       "'THIS IS MY STROY'"
      ]
     },
     "execution_count": 9,
     "metadata": {},
     "output_type": "execute_result"
    }
   ],
   "source": [
    "s.upper()"
   ]
  },
  {
   "cell_type": "code",
   "execution_count": 10,
   "id": "02ef8986",
   "metadata": {},
   "outputs": [
    {
     "data": {
      "text/plain": [
       "'this is my stroy'"
      ]
     },
     "execution_count": 10,
     "metadata": {},
     "output_type": "execute_result"
    }
   ],
   "source": [
    "s.lower()"
   ]
  },
  {
   "cell_type": "code",
   "execution_count": 11,
   "id": "c7988cfe",
   "metadata": {},
   "outputs": [
    {
     "data": {
      "text/plain": [
       "1"
      ]
     },
     "execution_count": 11,
     "metadata": {},
     "output_type": "execute_result"
    }
   ],
   "source": [
    "s.count('this')"
   ]
  },
  {
   "cell_type": "code",
   "execution_count": 12,
   "id": "9bc0b01d",
   "metadata": {},
   "outputs": [
    {
     "data": {
      "text/plain": [
       "2"
      ]
     },
     "execution_count": 12,
     "metadata": {},
     "output_type": "execute_result"
    }
   ],
   "source": [
    "s.count(\"is\")"
   ]
  },
  {
   "cell_type": "code",
   "execution_count": 13,
   "id": "821b56ee",
   "metadata": {},
   "outputs": [
    {
     "data": {
      "text/plain": [
       "'This is my stroy'"
      ]
     },
     "execution_count": 13,
     "metadata": {},
     "output_type": "execute_result"
    }
   ],
   "source": [
    "s.capitalize()"
   ]
  },
  {
   "cell_type": "code",
   "execution_count": 14,
   "id": "7ce64b14",
   "metadata": {},
   "outputs": [
    {
     "data": {
      "text/plain": [
       "'this is my stroy'"
      ]
     },
     "execution_count": 14,
     "metadata": {},
     "output_type": "execute_result"
    }
   ],
   "source": [
    "s.casefold()"
   ]
  },
  {
   "cell_type": "code",
   "execution_count": 15,
   "id": "ab84bf94",
   "metadata": {},
   "outputs": [
    {
     "data": {
      "text/plain": [
       "0"
      ]
     },
     "execution_count": 15,
     "metadata": {},
     "output_type": "execute_result"
    }
   ],
   "source": [
    "s.find(\"t\")"
   ]
  },
  {
   "cell_type": "code",
   "execution_count": 16,
   "id": "9323c4f7",
   "metadata": {},
   "outputs": [
    {
     "data": {
      "text/plain": [
       "'this is my stroy'"
      ]
     },
     "execution_count": 16,
     "metadata": {},
     "output_type": "execute_result"
    }
   ],
   "source": [
    "s"
   ]
  },
  {
   "cell_type": "code",
   "execution_count": 18,
   "id": "a431b172",
   "metadata": {},
   "outputs": [
    {
     "data": {
      "text/plain": [
       "'THIS IS MY STROY'"
      ]
     },
     "execution_count": 18,
     "metadata": {},
     "output_type": "execute_result"
    }
   ],
   "source": [
    "s.upper()"
   ]
  },
  {
   "cell_type": "code",
   "execution_count": 19,
   "id": "db1e4022",
   "metadata": {},
   "outputs": [
    {
     "name": "stdout",
     "output_type": "stream",
     "text": [
      "this is sprata\n"
     ]
    }
   ],
   "source": [
    "print(\"this is sprata\")"
   ]
  },
  {
   "cell_type": "code",
   "execution_count": 21,
   "id": "5a8f1828",
   "metadata": {},
   "outputs": [
    {
     "data": {
      "text/plain": [
       "'deep'"
      ]
     },
     "execution_count": 21,
     "metadata": {},
     "output_type": "execute_result"
    }
   ],
   "source": [
    "student= \"deep\"\n",
    "student"
   ]
  },
  {
   "cell_type": "code",
   "execution_count": 22,
   "id": "1d2c7230",
   "metadata": {},
   "outputs": [
    {
     "data": {
      "text/plain": [
       "'DEEP'"
      ]
     },
     "execution_count": 22,
     "metadata": {},
     "output_type": "execute_result"
    }
   ],
   "source": [
    "student.upper()"
   ]
  },
  {
   "cell_type": "code",
   "execution_count": 25,
   "id": "572aff78",
   "metadata": {},
   "outputs": [
    {
     "data": {
      "text/plain": [
       "'jay'"
      ]
     },
     "execution_count": 25,
     "metadata": {},
     "output_type": "execute_result"
    }
   ],
   "source": [
    "sudente=\"jay\"\n",
    "sudente "
   ]
  },
  {
   "cell_type": "code",
   "execution_count": 26,
   "id": "004bec4e",
   "metadata": {},
   "outputs": [],
   "source": [
    "#arithmetic operators      #,+,-,/,*"
   ]
  },
  {
   "cell_type": "code",
   "execution_count": 28,
   "id": "8d1e4d63",
   "metadata": {},
   "outputs": [
    {
     "data": {
      "text/plain": [
       "12"
      ]
     },
     "execution_count": 28,
     "metadata": {},
     "output_type": "execute_result"
    }
   ],
   "source": [
    "a=5\n",
    "b=7\n",
    "a+b"
   ]
  },
  {
   "cell_type": "code",
   "execution_count": 29,
   "id": "dd630cb4",
   "metadata": {},
   "outputs": [
    {
     "data": {
      "text/plain": [
       "2"
      ]
     },
     "execution_count": 29,
     "metadata": {},
     "output_type": "execute_result"
    }
   ],
   "source": [
    "b-a"
   ]
  },
  {
   "cell_type": "code",
   "execution_count": 31,
   "id": "60193cc1",
   "metadata": {},
   "outputs": [
    {
     "data": {
      "text/plain": [
       "0.7142857142857143"
      ]
     },
     "execution_count": 31,
     "metadata": {},
     "output_type": "execute_result"
    }
   ],
   "source": [
    "a/b"
   ]
  },
  {
   "cell_type": "code",
   "execution_count": 32,
   "id": "55c2fa82",
   "metadata": {},
   "outputs": [
    {
     "data": {
      "text/plain": [
       "35"
      ]
     },
     "execution_count": 32,
     "metadata": {},
     "output_type": "execute_result"
    }
   ],
   "source": [
    "a*b"
   ]
  },
  {
   "cell_type": "code",
   "execution_count": 33,
   "id": "75f97873",
   "metadata": {},
   "outputs": [],
   "source": [
    "#relational opertors\n",
    "#<>++/+"
   ]
  },
  {
   "cell_type": "code",
   "execution_count": 34,
   "id": "6b3a6191",
   "metadata": {},
   "outputs": [
    {
     "data": {
      "text/plain": [
       "True"
      ]
     },
     "execution_count": 34,
     "metadata": {},
     "output_type": "execute_result"
    }
   ],
   "source": [
    "a<b"
   ]
  },
  {
   "cell_type": "code",
   "execution_count": 35,
   "id": "bfd560a3",
   "metadata": {},
   "outputs": [
    {
     "data": {
      "text/plain": [
       "False"
      ]
     },
     "execution_count": 35,
     "metadata": {},
     "output_type": "execute_result"
    }
   ],
   "source": [
    "a>b"
   ]
  },
  {
   "cell_type": "code",
   "execution_count": 36,
   "id": "254812d0",
   "metadata": {},
   "outputs": [
    {
     "data": {
      "text/plain": [
       "False"
      ]
     },
     "execution_count": 36,
     "metadata": {},
     "output_type": "execute_result"
    }
   ],
   "source": [
    "a==b"
   ]
  },
  {
   "cell_type": "code",
   "execution_count": 37,
   "id": "03603196",
   "metadata": {},
   "outputs": [
    {
     "data": {
      "text/plain": [
       "True"
      ]
     },
     "execution_count": 37,
     "metadata": {},
     "output_type": "execute_result"
    }
   ],
   "source": [
    "a!=b"
   ]
  },
  {
   "cell_type": "code",
   "execution_count": 39,
   "id": "b7cccf49",
   "metadata": {},
   "outputs": [],
   "source": [
    "#logical operatore          &"
   ]
  },
  {
   "cell_type": "code",
   "execution_count": 40,
   "id": "75d206cf",
   "metadata": {},
   "outputs": [
    {
     "data": {
      "text/plain": [
       "False"
      ]
     },
     "execution_count": 40,
     "metadata": {},
     "output_type": "execute_result"
    }
   ],
   "source": [
    "a= True\n",
    "b= False\n",
    "b&b"
   ]
  },
  {
   "cell_type": "code",
   "execution_count": 41,
   "id": "2a94f9c8",
   "metadata": {},
   "outputs": [
    {
     "data": {
      "text/plain": [
       "0"
      ]
     },
     "execution_count": 41,
     "metadata": {},
     "output_type": "execute_result"
    }
   ],
   "source": [
    "a*b"
   ]
  },
  {
   "cell_type": "code",
   "execution_count": 42,
   "id": "c1632b26",
   "metadata": {},
   "outputs": [
    {
     "ename": "ZeroDivisionError",
     "evalue": "division by zero",
     "output_type": "error",
     "traceback": [
      "\u001b[1;31m---------------------------------------------------------------------------\u001b[0m",
      "\u001b[1;31mZeroDivisionError\u001b[0m                         Traceback (most recent call last)",
      "Cell \u001b[1;32mIn[42], line 1\u001b[0m\n\u001b[1;32m----> 1\u001b[0m \u001b[43ma\u001b[49m\u001b[38;5;241;43m/\u001b[39;49m\u001b[43mb\u001b[49m\n",
      "\u001b[1;31mZeroDivisionError\u001b[0m: division by zero"
     ]
    }
   ],
   "source": [
    "a/b"
   ]
  },
  {
   "cell_type": "code",
   "execution_count": 43,
   "id": "268c79c4",
   "metadata": {},
   "outputs": [
    {
     "data": {
      "text/plain": [
       "1"
      ]
     },
     "execution_count": 43,
     "metadata": {},
     "output_type": "execute_result"
    }
   ],
   "source": [
    "a+b"
   ]
  },
  {
   "cell_type": "code",
   "execution_count": 2,
   "id": "9bdfdb4a",
   "metadata": {},
   "outputs": [],
   "source": [
    "##  False , class , finally   ,is   ,return    ,None   ,continue \n"
   ]
  },
  {
   "cell_type": "code",
   "execution_count": 4,
   "id": "3c7675c6-4768-4a7e-b590-acb4d5c8aa7f",
   "metadata": {},
   "outputs": [],
   "source": [
    "def test1():\n",
    "    return \"end of the day\",34,7,6,[2,4,6]\n"
   ]
  },
  {
   "cell_type": "code",
   "execution_count": 5,
   "id": "b459821a",
   "metadata": {},
   "outputs": [
    {
     "data": {
      "text/plain": [
       "('end of the day', 34, 7, 6, [2, 4, 6])"
      ]
     },
     "execution_count": 5,
     "metadata": {},
     "output_type": "execute_result"
    }
   ],
   "source": [
    "test1()"
   ]
  },
  {
   "cell_type": "code",
   "execution_count": 8,
   "id": "29a36374",
   "metadata": {},
   "outputs": [],
   "source": [
    "a,b,c,d,e=test1()"
   ]
  },
  {
   "cell_type": "code",
   "execution_count": 9,
   "id": "670203ae",
   "metadata": {},
   "outputs": [
    {
     "data": {
      "text/plain": [
       "'end of the day'"
      ]
     },
     "execution_count": 9,
     "metadata": {},
     "output_type": "execute_result"
    }
   ],
   "source": [
    "a"
   ]
  },
  {
   "cell_type": "code",
   "execution_count": 10,
   "id": "1ca5ba05",
   "metadata": {},
   "outputs": [
    {
     "data": {
      "text/plain": [
       "34"
      ]
     },
     "execution_count": 10,
     "metadata": {},
     "output_type": "execute_result"
    }
   ],
   "source": [
    "b"
   ]
  },
  {
   "cell_type": "code",
   "execution_count": 11,
   "id": "b45cfb71",
   "metadata": {},
   "outputs": [
    {
     "data": {
      "text/plain": [
       "7"
      ]
     },
     "execution_count": 11,
     "metadata": {},
     "output_type": "execute_result"
    }
   ],
   "source": [
    "c"
   ]
  },
  {
   "cell_type": "code",
   "execution_count": 12,
   "id": "8f04eb93",
   "metadata": {},
   "outputs": [
    {
     "data": {
      "text/plain": [
       "6"
      ]
     },
     "execution_count": 12,
     "metadata": {},
     "output_type": "execute_result"
    }
   ],
   "source": [
    "d"
   ]
  },
  {
   "cell_type": "code",
   "execution_count": 13,
   "id": "9cd6c278",
   "metadata": {},
   "outputs": [
    {
     "data": {
      "text/plain": [
       "[2, 4, 6]"
      ]
     },
     "execution_count": 13,
     "metadata": {},
     "output_type": "execute_result"
    }
   ],
   "source": [
    "e"
   ]
  },
  {
   "cell_type": "code",
   "execution_count": 14,
   "id": "b7a3ece1",
   "metadata": {},
   "outputs": [],
   "source": [
    "a=1\n",
    "b=3"
   ]
  },
  {
   "cell_type": "code",
   "execution_count": 15,
   "id": "0ef4087c",
   "metadata": {},
   "outputs": [
    {
     "data": {
      "text/plain": [
       "4"
      ]
     },
     "execution_count": 15,
     "metadata": {},
     "output_type": "execute_result"
    }
   ],
   "source": [
    "a+b"
   ]
  },
  {
   "cell_type": "code",
   "execution_count": 16,
   "id": "02ace05d",
   "metadata": {},
   "outputs": [],
   "source": [
    "def test3(a,b,c):\n",
    "    b=a+b/c\n",
    "    return b"
   ]
  },
  {
   "cell_type": "code",
   "execution_count": 17,
   "id": "b328bec1",
   "metadata": {},
   "outputs": [
    {
     "ename": "NameError",
     "evalue": "name 'test' is not defined",
     "output_type": "error",
     "traceback": [
      "\u001b[1;31m---------------------------------------------------------------------------\u001b[0m",
      "\u001b[1;31mNameError\u001b[0m                                 Traceback (most recent call last)",
      "Cell \u001b[1;32mIn[17], line 1\u001b[0m\n\u001b[1;32m----> 1\u001b[0m \u001b[43mtest\u001b[49m()\n",
      "\u001b[1;31mNameError\u001b[0m: name 'test' is not defined"
     ]
    }
   ],
   "source": [
    "test3()"
   ]
  },
  {
   "cell_type": "code",
   "execution_count": 18,
   "id": "4331cc69",
   "metadata": {},
   "outputs": [
    {
     "data": {
      "text/plain": [
       "4.0"
      ]
     },
     "execution_count": 18,
     "metadata": {},
     "output_type": "execute_result"
    }
   ],
   "source": [
    "test3(2,8,4)"
   ]
  },
  {
   "cell_type": "code",
   "execution_count": 19,
   "id": "19564fc6",
   "metadata": {},
   "outputs": [
    {
     "data": {
      "text/plain": [
       "10"
      ]
     },
     "execution_count": 19,
     "metadata": {},
     "output_type": "execute_result"
    }
   ],
   "source": [
    "def test6 (a,b):\n",
    "    return a+b\n",
    "test6(4,6)\n"
   ]
  },
  {
   "cell_type": "code",
   "execution_count": 23,
   "id": "02e1d9b8",
   "metadata": {},
   "outputs": [
    {
     "data": {
      "text/plain": [
       "'stroysuccess'"
      ]
     },
     "execution_count": 23,
     "metadata": {},
     "output_type": "execute_result"
    }
   ],
   "source": [
    "test6(\"stroy\",\"success\")"
   ]
  },
  {
   "cell_type": "code",
   "execution_count": 24,
   "id": "d5487ded",
   "metadata": {},
   "outputs": [
    {
     "data": {
      "text/plain": [
       "[1, 3, 5, 7, 3, 5, 7]"
      ]
     },
     "execution_count": 24,
     "metadata": {},
     "output_type": "execute_result"
    }
   ],
   "source": [
    "test6([1,3,5,7],[3,5,7])"
   ]
  },
  {
   "cell_type": "code",
   "execution_count": 25,
   "id": "52528d0d",
   "metadata": {},
   "outputs": [],
   "source": [
    "l=[1,2,3,4,\"jai\",\"sardar\",[1,4,56,7]]"
   ]
  },
  {
   "cell_type": "code",
   "execution_count": 36,
   "id": "f471e7f7",
   "metadata": {},
   "outputs": [
    {
     "data": {
      "text/plain": [
       "[1, 2, 3, 4, 'jai', 'sardar', [1, 4, 56, 7]]"
      ]
     },
     "execution_count": 36,
     "metadata": {},
     "output_type": "execute_result"
    }
   ],
   "source": [
    "l"
   ]
  },
  {
   "cell_type": "code",
   "execution_count": 35,
   "id": "19452dfd",
   "metadata": {},
   "outputs": [],
   "source": [
    "def test(a):\n",
    "    l=[]\n",
    "    for i in a:\n",
    "        if type (i)==list:\n",
    "            for j in i:\n",
    "                l.append(j)\n",
    "        else:\n",
    "            if type (i)==int or type (i)==float :\n",
    "                l.append(i)\n",
    "    return l"
   ]
  },
  {
   "cell_type": "code",
   "execution_count": 38,
   "id": "d78d6eb2",
   "metadata": {},
   "outputs": [
    {
     "data": {
      "text/plain": [
       "[1, 2, 3, 4, 1, 4, 56, 7]"
      ]
     },
     "execution_count": 38,
     "metadata": {},
     "output_type": "execute_result"
    }
   ],
   "source": [
    "test(l)"
   ]
  },
  {
   "cell_type": "code",
   "execution_count": 39,
   "id": "ff81a304",
   "metadata": {},
   "outputs": [
    {
     "ename": "SyntaxError",
     "evalue": "invalid syntax (292327431.py, line 2)",
     "output_type": "error",
     "traceback": [
      "\u001b[1;36m  Cell \u001b[1;32mIn[39], line 2\u001b[1;36m\u001b[0m\n\u001b[1;33m    l[]\u001b[0m\n\u001b[1;37m      ^\u001b[0m\n\u001b[1;31mSyntaxError\u001b[0m\u001b[1;31m:\u001b[0m invalid syntax\n"
     ]
    }
   ],
   "source": [
    "def test1(b):\n",
    "    l[]\n",
    "    for i in b:\n",
    "        "
   ]
  },
  {
   "cell_type": "code",
   "execution_count": 40,
   "id": "91af90b6",
   "metadata": {},
   "outputs": [],
   "source": [
    "def test9(*args):\n",
    "    return args"
   ]
  },
  {
   "cell_type": "code",
   "execution_count": 41,
   "id": "52b0eeed",
   "metadata": {},
   "outputs": [
    {
     "data": {
      "text/plain": [
       "(3, 5, 56, 3)"
      ]
     },
     "execution_count": 41,
     "metadata": {},
     "output_type": "execute_result"
    }
   ],
   "source": [
    "test9(3,5,56,3)"
   ]
  },
  {
   "cell_type": "code",
   "execution_count": 42,
   "id": "5ea3b52b",
   "metadata": {},
   "outputs": [],
   "source": [
    "def test11(*j, r):\n",
    "    return j,r"
   ]
  },
  {
   "cell_type": "code",
   "execution_count": 44,
   "id": "f07760bf",
   "metadata": {},
   "outputs": [
    {
     "data": {
      "text/plain": [
       "((2, 4, 5), 53)"
      ]
     },
     "execution_count": 44,
     "metadata": {},
     "output_type": "execute_result"
    }
   ],
   "source": [
    "test11(2,4,5, r=53)"
   ]
  },
  {
   "cell_type": "code",
   "execution_count": 45,
   "id": "5fa8ea95",
   "metadata": {},
   "outputs": [],
   "source": [
    "def test12(c,d,a=23, b=1):\n",
    "    return a,b,c,d"
   ]
  },
  {
   "cell_type": "code",
   "execution_count": 47,
   "id": "6a8f627b",
   "metadata": {},
   "outputs": [
    {
     "ename": "TypeError",
     "evalue": "test12() missing 2 required positional arguments: 'c' and 'd'",
     "output_type": "error",
     "traceback": [
      "\u001b[1;31m---------------------------------------------------------------------------\u001b[0m",
      "\u001b[1;31mTypeError\u001b[0m                                 Traceback (most recent call last)",
      "Cell \u001b[1;32mIn[47], line 1\u001b[0m\n\u001b[1;32m----> 1\u001b[0m \u001b[43mtest12\u001b[49m\u001b[43m(\u001b[49m\u001b[43m)\u001b[49m\n",
      "\u001b[1;31mTypeError\u001b[0m: test12() missing 2 required positional arguments: 'c' and 'd'"
     ]
    }
   ],
   "source": [
    "test12()"
   ]
  },
  {
   "cell_type": "code",
   "execution_count": 49,
   "id": "68a3e8e4",
   "metadata": {},
   "outputs": [
    {
     "data": {
      "text/plain": [
       "(23, 1, 6, 8)"
      ]
     },
     "execution_count": 49,
     "metadata": {},
     "output_type": "execute_result"
    }
   ],
   "source": [
    "test12(6,8)"
   ]
  },
  {
   "cell_type": "code",
   "execution_count": 51,
   "id": "6d00651c",
   "metadata": {},
   "outputs": [
    {
     "data": {
      "text/plain": [
       "(3, 1, 6, 8)"
      ]
     },
     "execution_count": 51,
     "metadata": {},
     "output_type": "execute_result"
    }
   ],
   "source": [
    "test12(6,8,3)"
   ]
  },
  {
   "cell_type": "code",
   "execution_count": 52,
   "id": "250b3da2",
   "metadata": {},
   "outputs": [
    {
     "data": {
      "text/plain": [
       "(9, 0, 7, 8)"
      ]
     },
     "execution_count": 52,
     "metadata": {},
     "output_type": "execute_result"
    }
   ],
   "source": [
    "test12(7,8,9,0)\n",
    "#c,d,a,b"
   ]
  },
  {
   "cell_type": "code",
   "execution_count": 58,
   "id": "3dda647e",
   "metadata": {},
   "outputs": [],
   "source": [
    "#  singal *stra tupel(),,,,  dubbel **stra dict{}"
   ]
  },
  {
   "cell_type": "code",
   "execution_count": 54,
   "id": "cf39dd2a",
   "metadata": {},
   "outputs": [],
   "source": [
    "def test14(**ram):\n",
    "    return ram"
   ]
  },
  {
   "cell_type": "code",
   "execution_count": 55,
   "id": "23aff0ec",
   "metadata": {},
   "outputs": [
    {
     "data": {
      "text/plain": [
       "{}"
      ]
     },
     "execution_count": 55,
     "metadata": {},
     "output_type": "execute_result"
    }
   ],
   "source": [
    "test14()"
   ]
  },
  {
   "cell_type": "code",
   "execution_count": 56,
   "id": "f32dbfd1",
   "metadata": {},
   "outputs": [
    {
     "data": {
      "text/plain": [
       "dict"
      ]
     },
     "execution_count": 56,
     "metadata": {},
     "output_type": "execute_result"
    }
   ],
   "source": [
    "type(test14())"
   ]
  },
  {
   "cell_type": "code",
   "execution_count": 3,
   "id": "77d3eae2",
   "metadata": {},
   "outputs": [
    {
     "ename": "NameError",
     "evalue": "name 'l' is not defined",
     "output_type": "error",
     "traceback": [
      "\u001b[1;31m---------------------------------------------------------------------------\u001b[0m",
      "\u001b[1;31mNameError\u001b[0m                                 Traceback (most recent call last)",
      "Cell \u001b[1;32mIn[3], line 1\u001b[0m\n\u001b[1;32m----> 1\u001b[0m \u001b[43ml\u001b[49m\n",
      "\u001b[1;31mNameError\u001b[0m: name 'l' is not defined"
     ]
    }
   ],
   "source": [
    "l"
   ]
  },
  {
   "cell_type": "code",
   "execution_count": 14,
   "id": "fd01a93f-1ea4-42e7-afb4-3e065b3e0d11",
   "metadata": {},
   "outputs": [],
   "source": [
    "j=[12,5,72,\"HANUMAN\",\"ram\",4.65,(3+5j),True,[1,4,6]]"
   ]
  },
  {
   "cell_type": "code",
   "execution_count": 15,
   "id": "e8092723",
   "metadata": {},
   "outputs": [
    {
     "data": {
      "text/plain": [
       "[12, 5, 72, 'HANUMAN', 'ram', 4.65, (3+5j), True, [1, 4, 6]]"
      ]
     },
     "execution_count": 15,
     "metadata": {},
     "output_type": "execute_result"
    }
   ],
   "source": [
    "j"
   ]
  },
  {
   "cell_type": "markdown",
   "id": "173c674c",
   "metadata": {},
   "source": []
  },
  {
   "cell_type": "code",
   "execution_count": 7,
   "id": "bcf79b15",
   "metadata": {},
   "outputs": [],
   "source": [
    "j1=[53,3,6,7]"
   ]
  },
  {
   "cell_type": "code",
   "execution_count": 8,
   "id": "04a0f461",
   "metadata": {},
   "outputs": [
    {
     "data": {
      "text/plain": [
       "[53, 3, 6, 7]"
      ]
     },
     "execution_count": 8,
     "metadata": {},
     "output_type": "execute_result"
    }
   ],
   "source": [
    "j1"
   ]
  },
  {
   "cell_type": "code",
   "execution_count": 11,
   "id": "fe1f592a",
   "metadata": {},
   "outputs": [],
   "source": [
    "a=j+j1"
   ]
  },
  {
   "cell_type": "code",
   "execution_count": 12,
   "id": "a5c59d1e",
   "metadata": {},
   "outputs": [
    {
     "data": {
      "text/plain": [
       "[12, 5, 72, 'HANUMAN', 'ram', 4.65, (3+5j), True, 53, 3, 6, 7]"
      ]
     },
     "execution_count": 12,
     "metadata": {},
     "output_type": "execute_result"
    }
   ],
   "source": [
    "a"
   ]
  },
  {
   "cell_type": "code",
   "execution_count": 16,
   "id": "b29aa8ce",
   "metadata": {},
   "outputs": [
    {
     "data": {
      "text/plain": [
       "[12, 5, 72, 'HANUMAN', 'ram', 4.65, (3+5j), True, [1, 4, 6]]"
      ]
     },
     "execution_count": 16,
     "metadata": {},
     "output_type": "execute_result"
    }
   ],
   "source": [
    "j"
   ]
  },
  {
   "cell_type": "code",
   "execution_count": 19,
   "id": "0bc4c801",
   "metadata": {},
   "outputs": [
    {
     "data": {
      "text/plain": [
       "[53, 3, 6, 7]"
      ]
     },
     "execution_count": 19,
     "metadata": {},
     "output_type": "execute_result"
    }
   ],
   "source": [
    "j1"
   ]
  },
  {
   "cell_type": "code",
   "execution_count": 20,
   "id": "806221db",
   "metadata": {},
   "outputs": [],
   "source": [
    "j.append(j1)"
   ]
  },
  {
   "cell_type": "code",
   "execution_count": 21,
   "id": "b80daa2f",
   "metadata": {},
   "outputs": [
    {
     "data": {
      "text/plain": [
       "[12, 5, 72, 'HANUMAN', 'ram', 4.65, (3+5j), True, [1, 4, 6], [53, 3, 6, 7]]"
      ]
     },
     "execution_count": 21,
     "metadata": {},
     "output_type": "execute_result"
    }
   ],
   "source": [
    "j"
   ]
  },
  {
   "cell_type": "code",
   "execution_count": 26,
   "id": "7ab0864b",
   "metadata": {},
   "outputs": [],
   "source": [
    "j1.remove(53)"
   ]
  },
  {
   "cell_type": "code",
   "execution_count": 27,
   "id": "d334c0c5",
   "metadata": {},
   "outputs": [
    {
     "data": {
      "text/plain": [
       "[6, 7]"
      ]
     },
     "execution_count": 27,
     "metadata": {},
     "output_type": "execute_result"
    }
   ],
   "source": [
    "j1"
   ]
  },
  {
   "cell_type": "code",
   "execution_count": 28,
   "id": "a4f0591c",
   "metadata": {},
   "outputs": [
    {
     "data": {
      "text/plain": [
       "[12, 5, 72, 'HANUMAN', 'ram', 4.65, (3+5j), True, [1, 4, 6], [6, 7]]"
      ]
     },
     "execution_count": 28,
     "metadata": {},
     "output_type": "execute_result"
    }
   ],
   "source": [
    "j"
   ]
  },
  {
   "cell_type": "code",
   "execution_count": 30,
   "id": "f4863184",
   "metadata": {},
   "outputs": [],
   "source": [
    "j1=j1[::-1]"
   ]
  },
  {
   "cell_type": "code",
   "execution_count": 31,
   "id": "4586804c",
   "metadata": {},
   "outputs": [
    {
     "data": {
      "text/plain": [
       "[7, 6]"
      ]
     },
     "execution_count": 31,
     "metadata": {},
     "output_type": "execute_result"
    }
   ],
   "source": [
    "j1"
   ]
  },
  {
   "cell_type": "code",
   "execution_count": 32,
   "id": "eea32b8a",
   "metadata": {},
   "outputs": [
    {
     "data": {
      "text/plain": [
       "[12, 5, 72, 'HANUMAN', 'ram', 4.65, (3+5j), True, [1, 4, 6], [6, 7]]"
      ]
     },
     "execution_count": 32,
     "metadata": {},
     "output_type": "execute_result"
    }
   ],
   "source": [
    "j"
   ]
  },
  {
   "cell_type": "code",
   "execution_count": 33,
   "id": "6cc218d5",
   "metadata": {},
   "outputs": [],
   "source": [
    "j2=[3,45,6,7,8,9,]"
   ]
  },
  {
   "cell_type": "code",
   "execution_count": 34,
   "id": "340ac625",
   "metadata": {},
   "outputs": [
    {
     "data": {
      "text/plain": [
       "[3, 45, 6, 7, 8, 9]"
      ]
     },
     "execution_count": 34,
     "metadata": {},
     "output_type": "execute_result"
    }
   ],
   "source": [
    "j2"
   ]
  },
  {
   "cell_type": "code",
   "execution_count": 35,
   "id": "ce868e4c",
   "metadata": {},
   "outputs": [],
   "source": [
    "j2.sort()"
   ]
  },
  {
   "cell_type": "code",
   "execution_count": 36,
   "id": "6b155386",
   "metadata": {},
   "outputs": [
    {
     "data": {
      "text/plain": [
       "[3, 6, 7, 8, 9, 45]"
      ]
     },
     "execution_count": 36,
     "metadata": {},
     "output_type": "execute_result"
    }
   ],
   "source": [
    "j2"
   ]
  },
  {
   "cell_type": "code",
   "execution_count": 37,
   "id": "e553aea5",
   "metadata": {},
   "outputs": [],
   "source": [
    "j3=['jay','shree','ram','hanuman']"
   ]
  },
  {
   "cell_type": "code",
   "execution_count": 38,
   "id": "412a9fe9",
   "metadata": {},
   "outputs": [
    {
     "data": {
      "text/plain": [
       "['jay', 'shree', 'ram', 'hanuman']"
      ]
     },
     "execution_count": 38,
     "metadata": {},
     "output_type": "execute_result"
    }
   ],
   "source": [
    "j3"
   ]
  },
  {
   "cell_type": "code",
   "execution_count": 39,
   "id": "aabf537f",
   "metadata": {},
   "outputs": [],
   "source": [
    "j3.sort()"
   ]
  },
  {
   "cell_type": "code",
   "execution_count": 40,
   "id": "170bdd63",
   "metadata": {},
   "outputs": [
    {
     "data": {
      "text/plain": [
       "['hanuman', 'jay', 'ram', 'shree']"
      ]
     },
     "execution_count": 40,
     "metadata": {},
     "output_type": "execute_result"
    }
   ],
   "source": [
    "j3"
   ]
  },
  {
   "cell_type": "code",
   "execution_count": 41,
   "id": "dfe3beb2",
   "metadata": {},
   "outputs": [],
   "source": [
    "j4=[2,5,7,'ram','jai']"
   ]
  },
  {
   "cell_type": "code",
   "execution_count": 42,
   "id": "78e9d6d2",
   "metadata": {},
   "outputs": [
    {
     "data": {
      "text/plain": [
       "[2, 5, 7, 'ram', 'jai']"
      ]
     },
     "execution_count": 42,
     "metadata": {},
     "output_type": "execute_result"
    }
   ],
   "source": [
    "j4"
   ]
  },
  {
   "cell_type": "code",
   "execution_count": 43,
   "id": "6f644f6b",
   "metadata": {},
   "outputs": [
    {
     "ename": "TypeError",
     "evalue": "'<' not supported between instances of 'str' and 'int'",
     "output_type": "error",
     "traceback": [
      "\u001b[1;31m---------------------------------------------------------------------------\u001b[0m",
      "\u001b[1;31mTypeError\u001b[0m                                 Traceback (most recent call last)",
      "Cell \u001b[1;32mIn[43], line 1\u001b[0m\n\u001b[1;32m----> 1\u001b[0m \u001b[43mj4\u001b[49m\u001b[38;5;241;43m.\u001b[39;49m\u001b[43msort\u001b[49m\u001b[43m(\u001b[49m\u001b[43m)\u001b[49m\n",
      "\u001b[1;31mTypeError\u001b[0m: '<' not supported between instances of 'str' and 'int'"
     ]
    }
   ],
   "source": [
    "j4.sort()"
   ]
  },
  {
   "cell_type": "code",
   "execution_count": 44,
   "id": "9cde1219",
   "metadata": {},
   "outputs": [
    {
     "data": {
      "text/plain": [
       "['hanuman', 'jay', 'ram', 'shree']"
      ]
     },
     "execution_count": 44,
     "metadata": {},
     "output_type": "execute_result"
    }
   ],
   "source": [
    "j3"
   ]
  },
  {
   "cell_type": "code",
   "execution_count": 48,
   "id": "16473087",
   "metadata": {},
   "outputs": [
    {
     "data": {
      "text/plain": [
       "1"
      ]
     },
     "execution_count": 48,
     "metadata": {},
     "output_type": "execute_result"
    }
   ],
   "source": [
    "j3.index('jay')"
   ]
  },
  {
   "cell_type": "code",
   "execution_count": 49,
   "id": "69211fc8",
   "metadata": {},
   "outputs": [
    {
     "data": {
      "text/plain": [
       "0"
      ]
     },
     "execution_count": 49,
     "metadata": {},
     "output_type": "execute_result"
    }
   ],
   "source": [
    "j3.count(a)"
   ]
  },
  {
   "cell_type": "code",
   "execution_count": 50,
   "id": "72da44b0",
   "metadata": {},
   "outputs": [
    {
     "data": {
      "text/plain": [
       "1"
      ]
     },
     "execution_count": 50,
     "metadata": {},
     "output_type": "execute_result"
    }
   ],
   "source": [
    "j3.count(\"jay\")"
   ]
  },
  {
   "cell_type": "code",
   "execution_count": 51,
   "id": "a6515b4c",
   "metadata": {},
   "outputs": [],
   "source": [
    "q1=\"ramesh\""
   ]
  },
  {
   "cell_type": "code",
   "execution_count": 52,
   "id": "2ff4fa45",
   "metadata": {},
   "outputs": [
    {
     "data": {
      "text/plain": [
       "'ramesh'"
      ]
     },
     "execution_count": 52,
     "metadata": {},
     "output_type": "execute_result"
    }
   ],
   "source": [
    "q1"
   ]
  },
  {
   "cell_type": "code",
   "execution_count": 55,
   "id": "f6442825",
   "metadata": {},
   "outputs": [
    {
     "data": {
      "text/plain": [
       "'m'"
      ]
     },
     "execution_count": 55,
     "metadata": {},
     "output_type": "execute_result"
    }
   ],
   "source": [
    "q1[2]"
   ]
  },
  {
   "cell_type": "code",
   "execution_count": 57,
   "id": "11154259",
   "metadata": {},
   "outputs": [
    {
     "ename": "TypeError",
     "evalue": "'str' object does not support item assignment",
     "output_type": "error",
     "traceback": [
      "\u001b[1;31m---------------------------------------------------------------------------\u001b[0m",
      "\u001b[1;31mTypeError\u001b[0m                                 Traceback (most recent call last)",
      "Cell \u001b[1;32mIn[57], line 1\u001b[0m\n\u001b[1;32m----> 1\u001b[0m q1[\u001b[38;5;241m3\u001b[39m]\u001b[38;5;241m=\u001b[39m\u001b[38;5;124m'\u001b[39m\u001b[38;5;124mn\u001b[39m\u001b[38;5;124m'\u001b[39m\n",
      "\u001b[1;31mTypeError\u001b[0m: 'str' object does not support item assignment"
     ]
    }
   ],
   "source": [
    "q1[3]='n'"
   ]
  },
  {
   "cell_type": "code",
   "execution_count": 58,
   "id": "8d131a36",
   "metadata": {},
   "outputs": [
    {
     "data": {
      "text/plain": [
       "[3, 6, 7, 8, 9, 45]"
      ]
     },
     "execution_count": 58,
     "metadata": {},
     "output_type": "execute_result"
    }
   ],
   "source": [
    "j2"
   ]
  },
  {
   "cell_type": "code",
   "execution_count": 59,
   "id": "f01eb527",
   "metadata": {},
   "outputs": [],
   "source": [
    "j2[3]=47"
   ]
  },
  {
   "cell_type": "code",
   "execution_count": 60,
   "id": "ba59bd9a",
   "metadata": {},
   "outputs": [
    {
     "data": {
      "text/plain": [
       "[3, 6, 7, 47, 9, 45]"
      ]
     },
     "execution_count": 60,
     "metadata": {},
     "output_type": "execute_result"
    }
   ],
   "source": [
    "j2"
   ]
  },
  {
   "cell_type": "code",
   "execution_count": 61,
   "id": "74e53ce9",
   "metadata": {},
   "outputs": [],
   "source": [
    "j2[5]='jay'"
   ]
  },
  {
   "cell_type": "code",
   "execution_count": 62,
   "id": "992890d9",
   "metadata": {},
   "outputs": [
    {
     "data": {
      "text/plain": [
       "[3, 6, 7, 47, 9, 'jay']"
      ]
     },
     "execution_count": 62,
     "metadata": {},
     "output_type": "execute_result"
    }
   ],
   "source": [
    "j2"
   ]
  },
  {
   "cell_type": "code",
   "execution_count": 63,
   "id": "19884b14",
   "metadata": {},
   "outputs": [
    {
     "data": {
      "text/plain": [
       "'ramesh'"
      ]
     },
     "execution_count": 63,
     "metadata": {},
     "output_type": "execute_result"
    }
   ],
   "source": [
    "q1"
   ]
  },
  {
   "cell_type": "code",
   "execution_count": 64,
   "id": "104e9255",
   "metadata": {},
   "outputs": [
    {
     "data": {
      "text/plain": [
       "'hamesh'"
      ]
     },
     "execution_count": 64,
     "metadata": {},
     "output_type": "execute_result"
    }
   ],
   "source": [
    "q1.replace('r','h')"
   ]
  },
  {
   "cell_type": "code",
   "execution_count": 65,
   "id": "08289bb3",
   "metadata": {},
   "outputs": [
    {
     "data": {
      "text/plain": [
       "'ramesh'"
      ]
     },
     "execution_count": 65,
     "metadata": {},
     "output_type": "execute_result"
    }
   ],
   "source": [
    "q1"
   ]
  },
  {
   "cell_type": "code",
   "execution_count": 66,
   "id": "08082b17",
   "metadata": {},
   "outputs": [],
   "source": [
    "#tuppel"
   ]
  },
  {
   "cell_type": "code",
   "execution_count": 73,
   "id": "ca9c18f5",
   "metadata": {},
   "outputs": [],
   "source": [
    "t=(2,4,5,6,\"ravan\",4.6,False,4+756j,[3,4,5])"
   ]
  },
  {
   "cell_type": "code",
   "execution_count": 74,
   "id": "bcf0726d",
   "metadata": {},
   "outputs": [
    {
     "data": {
      "text/plain": [
       "(2, 4, 5, 6, 'ravan', 4.6, False, (4+756j), [3, 4, 5])"
      ]
     },
     "execution_count": 74,
     "metadata": {},
     "output_type": "execute_result"
    }
   ],
   "source": [
    "t"
   ]
  },
  {
   "cell_type": "code",
   "execution_count": 75,
   "id": "7309a66d",
   "metadata": {},
   "outputs": [
    {
     "data": {
      "text/plain": [
       "tuple"
      ]
     },
     "execution_count": 75,
     "metadata": {},
     "output_type": "execute_result"
    }
   ],
   "source": [
    "type(t)"
   ]
  },
  {
   "cell_type": "code",
   "execution_count": 78,
   "id": "cd147261",
   "metadata": {},
   "outputs": [
    {
     "data": {
      "text/plain": [
       "9"
      ]
     },
     "execution_count": 78,
     "metadata": {},
     "output_type": "execute_result"
    }
   ],
   "source": [
    "len(t)"
   ]
  },
  {
   "cell_type": "code",
   "execution_count": 79,
   "id": "64005969",
   "metadata": {},
   "outputs": [
    {
     "data": {
      "text/plain": [
       "2"
      ]
     },
     "execution_count": 79,
     "metadata": {},
     "output_type": "execute_result"
    }
   ],
   "source": [
    "t[0]"
   ]
  },
  {
   "cell_type": "code",
   "execution_count": 81,
   "id": "5992e94a",
   "metadata": {},
   "outputs": [
    {
     "data": {
      "text/plain": [
       "[3, 4, 5]"
      ]
     },
     "execution_count": 81,
     "metadata": {},
     "output_type": "execute_result"
    }
   ],
   "source": [
    "t[-1]"
   ]
  },
  {
   "cell_type": "code",
   "execution_count": 88,
   "id": "60e4cec3",
   "metadata": {},
   "outputs": [
    {
     "data": {
      "text/plain": [
       "([3, 4, 5], (4+756j), False, 4.6, 'ravan', 6, 5, 4, 2)"
      ]
     },
     "execution_count": 88,
     "metadata": {},
     "output_type": "execute_result"
    }
   ],
   "source": [
    "t[::-1]"
   ]
  },
  {
   "cell_type": "code",
   "execution_count": 89,
   "id": "f11fceab",
   "metadata": {},
   "outputs": [
    {
     "data": {
      "text/plain": [
       "(2, 4, 5, 6, 'ravan', 4.6, False, (4+756j), [3, 4, 5])"
      ]
     },
     "execution_count": 89,
     "metadata": {},
     "output_type": "execute_result"
    }
   ],
   "source": [
    "t"
   ]
  },
  {
   "cell_type": "code",
   "execution_count": 84,
   "id": "d1aca4c0",
   "metadata": {},
   "outputs": [
    {
     "ename": "TypeError",
     "evalue": "'tuple' object does not support item assignment",
     "output_type": "error",
     "traceback": [
      "\u001b[1;31m---------------------------------------------------------------------------\u001b[0m",
      "\u001b[1;31mTypeError\u001b[0m                                 Traceback (most recent call last)",
      "Cell \u001b[1;32mIn[84], line 1\u001b[0m\n\u001b[1;32m----> 1\u001b[0m t[\u001b[38;5;241m4\u001b[39m]\u001b[38;5;241m=\u001b[39m\u001b[38;5;241m143\u001b[39m\n",
      "\u001b[1;31mTypeError\u001b[0m: 'tuple' object does not support item assignment"
     ]
    }
   ],
   "source": []
  },
  {
   "cell_type": "code",
   "execution_count": 85,
   "id": "a996bbf5",
   "metadata": {},
   "outputs": [],
   "source": [
    "j3[2]=143"
   ]
  },
  {
   "cell_type": "code",
   "execution_count": 86,
   "id": "fd87cd42",
   "metadata": {},
   "outputs": [
    {
     "data": {
      "text/plain": [
       "['hanuman', 'jay', 143, 'shree']"
      ]
     },
     "execution_count": 86,
     "metadata": {},
     "output_type": "execute_result"
    }
   ],
   "source": [
    "j3"
   ]
  },
  {
   "cell_type": "code",
   "execution_count": 87,
   "id": "f528a5cd",
   "metadata": {},
   "outputs": [
    {
     "data": {
      "text/plain": [
       "['hanuman', 'jay', 143, 'shree']"
      ]
     },
     "execution_count": 87,
     "metadata": {},
     "output_type": "execute_result"
    }
   ],
   "source": [
    "j3"
   ]
  },
  {
   "cell_type": "code",
   "execution_count": 91,
   "id": "1348f02e",
   "metadata": {},
   "outputs": [
    {
     "data": {
      "text/plain": [
       "1"
      ]
     },
     "execution_count": 91,
     "metadata": {},
     "output_type": "execute_result"
    }
   ],
   "source": [
    "t.count(4)"
   ]
  },
  {
   "cell_type": "code",
   "execution_count": 92,
   "id": "cae53133",
   "metadata": {},
   "outputs": [
    {
     "data": {
      "text/plain": [
       "0"
      ]
     },
     "execution_count": 92,
     "metadata": {},
     "output_type": "execute_result"
    }
   ],
   "source": [
    "t.count(a)"
   ]
  },
  {
   "cell_type": "code",
   "execution_count": 93,
   "id": "0950e673",
   "metadata": {},
   "outputs": [
    {
     "data": {
      "text/plain": [
       "1"
      ]
     },
     "execution_count": 93,
     "metadata": {},
     "output_type": "execute_result"
    }
   ],
   "source": [
    "t.index(4)"
   ]
  },
  {
   "cell_type": "code",
   "execution_count": 95,
   "id": "b2c22079",
   "metadata": {},
   "outputs": [
    {
     "data": {
      "text/plain": [
       "6"
      ]
     },
     "execution_count": 95,
     "metadata": {},
     "output_type": "execute_result"
    }
   ],
   "source": [
    "t.index(False)"
   ]
  },
  {
   "cell_type": "code",
   "execution_count": 96,
   "id": "39931573",
   "metadata": {},
   "outputs": [],
   "source": [
    "s1={}"
   ]
  },
  {
   "cell_type": "code",
   "execution_count": 97,
   "id": "5dec6f4b",
   "metadata": {},
   "outputs": [
    {
     "data": {
      "text/plain": [
       "{}"
      ]
     },
     "execution_count": 97,
     "metadata": {},
     "output_type": "execute_result"
    }
   ],
   "source": [
    "s1"
   ]
  },
  {
   "cell_type": "code",
   "execution_count": 98,
   "id": "ffccccef",
   "metadata": {},
   "outputs": [
    {
     "data": {
      "text/plain": [
       "dict"
      ]
     },
     "execution_count": 98,
     "metadata": {},
     "output_type": "execute_result"
    }
   ],
   "source": [
    "type(s1)"
   ]
  },
  {
   "cell_type": "code",
   "execution_count": 99,
   "id": "141a235b",
   "metadata": {},
   "outputs": [
    {
     "data": {
      "text/plain": [
       "dict"
      ]
     },
     "execution_count": 99,
     "metadata": {},
     "output_type": "execute_result"
    }
   ],
   "source": [
    "s2={}\n",
    "type(s2)"
   ]
  },
  {
   "cell_type": "code",
   "execution_count": 101,
   "id": "c5c335d4",
   "metadata": {},
   "outputs": [
    {
     "data": {
      "text/plain": [
       "set"
      ]
     },
     "execution_count": 101,
     "metadata": {},
     "output_type": "execute_result"
    }
   ],
   "source": [
    "s2={1,2,3,4,5,6}\n",
    "type(s2)"
   ]
  },
  {
   "cell_type": "code",
   "execution_count": 104,
   "id": "592267a4",
   "metadata": {},
   "outputs": [],
   "source": [
    "s3={232,4342,54,\"ram\",45+56j,342.56,(2,3,4)}"
   ]
  },
  {
   "cell_type": "code",
   "execution_count": 105,
   "id": "515e7060",
   "metadata": {},
   "outputs": [
    {
     "data": {
      "text/plain": [
       "{(2, 3, 4), (45+56j), 232, 342.56, 4342, 54, 'ram'}"
      ]
     },
     "execution_count": 105,
     "metadata": {},
     "output_type": "execute_result"
    }
   ],
   "source": [
    "s3"
   ]
  },
  {
   "cell_type": "code",
   "execution_count": 106,
   "id": "72c70859",
   "metadata": {},
   "outputs": [
    {
     "data": {
      "text/plain": [
       "set"
      ]
     },
     "execution_count": 106,
     "metadata": {},
     "output_type": "execute_result"
    }
   ],
   "source": [
    "type(s3)"
   ]
  },
  {
   "cell_type": "code",
   "execution_count": 110,
   "id": "d576aecd",
   "metadata": {},
   "outputs": [],
   "source": [
    "s4={1,2,1,1,3,3,4,34,5,6,758,322,1,1,3,46,7,86}"
   ]
  },
  {
   "cell_type": "markdown",
   "id": "75dbb131",
   "metadata": {},
   "source": [
    "s4"
   ]
  },
  {
   "cell_type": "code",
   "execution_count": 111,
   "id": "2f653963",
   "metadata": {},
   "outputs": [
    {
     "data": {
      "text/plain": [
       "{1, 2, 3, 4, 5, 6, 7, 34, 46, 86, 322, 758}"
      ]
     },
     "execution_count": 111,
     "metadata": {},
     "output_type": "execute_result"
    }
   ],
   "source": [
    "s4"
   ]
  },
  {
   "cell_type": "code",
   "execution_count": 112,
   "id": "e3d91ff7",
   "metadata": {},
   "outputs": [],
   "source": [
    "s5={1,2,1,1,3,3,4,34,5,6,758,322,1,1,3,46,7,86,\"Sujay\",\"sujay\"}"
   ]
  },
  {
   "cell_type": "code",
   "execution_count": 114,
   "id": "f87449bf",
   "metadata": {},
   "outputs": [
    {
     "data": {
      "text/plain": [
       "{1, 2, 3, 322, 34, 4, 46, 5, 6, 7, 758, 86, 'Sujay', 'sujay'}"
      ]
     },
     "execution_count": 114,
     "metadata": {},
     "output_type": "execute_result"
    }
   ],
   "source": [
    "s5"
   ]
  },
  {
   "cell_type": "code",
   "execution_count": 115,
   "id": "a790e0f2",
   "metadata": {},
   "outputs": [],
   "source": [
    "s5=list(set(s5))"
   ]
  },
  {
   "cell_type": "code",
   "execution_count": 116,
   "id": "5de40bd4",
   "metadata": {},
   "outputs": [
    {
     "data": {
      "text/plain": [
       "[1, 2, 3, 4, 34, 5, 6, 322, 7, 'Sujay', 46, 'sujay', 758, 86]"
      ]
     },
     "execution_count": 116,
     "metadata": {},
     "output_type": "execute_result"
    }
   ],
   "source": [
    "s5"
   ]
  },
  {
   "cell_type": "code",
   "execution_count": 117,
   "id": "d1cbfb4f",
   "metadata": {},
   "outputs": [],
   "source": [
    "s12={1,1,2,3,1,3,4,5,4,3,5,\"abc\"}"
   ]
  },
  {
   "cell_type": "code",
   "execution_count": 118,
   "id": "d4c54e07",
   "metadata": {},
   "outputs": [
    {
     "data": {
      "text/plain": [
       "{1, 2, 3, 4, 5, 'abc'}"
      ]
     },
     "execution_count": 118,
     "metadata": {},
     "output_type": "execute_result"
    }
   ],
   "source": [
    "s12"
   ]
  },
  {
   "cell_type": "code",
   "execution_count": 119,
   "id": "b1d3e34e",
   "metadata": {},
   "outputs": [
    {
     "ename": "AttributeError",
     "evalue": "'set' object has no attribute 'set'",
     "output_type": "error",
     "traceback": [
      "\u001b[1;31m---------------------------------------------------------------------------\u001b[0m",
      "\u001b[1;31mAttributeError\u001b[0m                            Traceback (most recent call last)",
      "Cell \u001b[1;32mIn[119], line 1\u001b[0m\n\u001b[1;32m----> 1\u001b[0m \u001b[43ms12\u001b[49m\u001b[38;5;241;43m.\u001b[39;49m\u001b[43mset\u001b[49m\n",
      "\u001b[1;31mAttributeError\u001b[0m: 'set' object has no attribute 'set'"
     ]
    }
   ],
   "source": [
    "s12.set"
   ]
  },
  {
   "cell_type": "code",
   "execution_count": 121,
   "id": "168b70ee",
   "metadata": {},
   "outputs": [
    {
     "ename": "NameError",
     "evalue": "name 'lest' is not defined",
     "output_type": "error",
     "traceback": [
      "\u001b[1;31m---------------------------------------------------------------------------\u001b[0m",
      "\u001b[1;31mNameError\u001b[0m                                 Traceback (most recent call last)",
      "Cell \u001b[1;32mIn[121], line 1\u001b[0m\n\u001b[1;32m----> 1\u001b[0m s12\u001b[38;5;241m=\u001b[39m\u001b[43mlest\u001b[49m(\u001b[38;5;28mset\u001b[39m(s12))\n",
      "\u001b[1;31mNameError\u001b[0m: name 'lest' is not defined"
     ]
    }
   ],
   "source": [
    "s12=lest(set(s12))"
   ]
  },
  {
   "cell_type": "code",
   "execution_count": 122,
   "id": "b7bf5841",
   "metadata": {},
   "outputs": [
    {
     "data": {
      "text/plain": [
       "{1, 2, 3, 4, 5, 6, 7, 34, 46, 86, 322, 758}"
      ]
     },
     "execution_count": 122,
     "metadata": {},
     "output_type": "execute_result"
    }
   ],
   "source": [
    "s4"
   ]
  },
  {
   "cell_type": "code",
   "execution_count": 123,
   "id": "f40012b5",
   "metadata": {},
   "outputs": [],
   "source": [
    "s4.add(1545)"
   ]
  },
  {
   "cell_type": "code",
   "execution_count": 124,
   "id": "5ac9d50d",
   "metadata": {},
   "outputs": [
    {
     "data": {
      "text/plain": [
       "{1, 2, 3, 4, 5, 6, 7, 34, 46, 86, 322, 758, 1545}"
      ]
     },
     "execution_count": 124,
     "metadata": {},
     "output_type": "execute_result"
    }
   ],
   "source": [
    "s4"
   ]
  },
  {
   "cell_type": "code",
   "execution_count": 125,
   "id": "2529b6bf",
   "metadata": {},
   "outputs": [],
   "source": [
    "s4.remove(34)"
   ]
  },
  {
   "cell_type": "code",
   "execution_count": 126,
   "id": "57dff8e8",
   "metadata": {},
   "outputs": [
    {
     "data": {
      "text/plain": [
       "{1, 2, 3, 4, 5, 6, 7, 46, 86, 322, 758, 1545}"
      ]
     },
     "execution_count": 126,
     "metadata": {},
     "output_type": "execute_result"
    }
   ],
   "source": [
    "s4"
   ]
  },
  {
   "cell_type": "code",
   "execution_count": null,
   "id": "c5dfeca6",
   "metadata": {},
   "outputs": [],
   "source": []
  }
 ],
 "metadata": {
  "kernelspec": {
   "display_name": "Python 3 (ipykernel)",
   "language": "python",
   "name": "python3"
  },
  "language_info": {
   "codemirror_mode": {
    "name": "ipython",
    "version": 3
   },
   "file_extension": ".py",
   "mimetype": "text/x-python",
   "name": "python",
   "nbconvert_exporter": "python",
   "pygments_lexer": "ipython3",
   "version": "3.10.9"
  }
 },
 "nbformat": 4,
 "nbformat_minor": 5
}
